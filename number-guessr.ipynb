{
 "cells": [
  {
   "cell_type": "code",
   "execution_count": 6,
   "metadata": {},
   "outputs": [],
   "source": [
    "import random\n",
    "target = random.randint(1, 100)"
   ]
  },
  {
   "cell_type": "code",
   "execution_count": null,
   "metadata": {},
   "outputs": [
    {
     "name": "stdout",
     "output_type": "stream",
     "text": [
      "You guessed way lower...\n",
      "You guessed slightly lower...\n",
      "You guessed slightly lower...\n",
      "Please enter a valid integer.\n",
      "You guessed slightly higher...\n",
      "You guessed slightly lower...\n",
      "You guessed slightly lower...\n",
      "You guessed slightly lower...\n",
      "You guessed slightly lower...\n"
     ]
    }
   ],
   "source": [
    "while True:\n",
    "    user_input = input(\"Guess the number: \")\n",
    "    if user_input.isdigit():\n",
    "        guess = int(user_input)\n",
    "        diff = target - guess\n",
    "        if diff == 0:\n",
    "            print(\"Congratulations! You guessed the number correctly\")\n",
    "            break\n",
    "        elif diff > 10:\n",
    "            comment = \"You guessed way lower...\"\n",
    "        elif diff <= 10 and diff > 0:\n",
    "            comment = \"You guessed slightly lower...\"\n",
    "        elif diff < 0 and diff >= -10:\n",
    "            comment = \"You guessed slightly higher...\"\n",
    "        elif diff < -10:\n",
    "            comment = \"You guessed way higher...\"\n",
    "\n",
    "        print(comment)\n",
    "    else:\n",
    "        print(\"Please enter a valid integer.\")"
   ]
  },
  {
   "cell_type": "code",
   "execution_count": null,
   "metadata": {},
   "outputs": [],
   "source": []
  }
 ],
 "metadata": {
  "kernelspec": {
   "display_name": "Python 3",
   "language": "python",
   "name": "python3"
  },
  "language_info": {
   "codemirror_mode": {
    "name": "ipython",
    "version": 3
   },
   "file_extension": ".py",
   "mimetype": "text/x-python",
   "name": "python",
   "nbconvert_exporter": "python",
   "pygments_lexer": "ipython3",
   "version": "3.13.1"
  }
 },
 "nbformat": 4,
 "nbformat_minor": 2
}
